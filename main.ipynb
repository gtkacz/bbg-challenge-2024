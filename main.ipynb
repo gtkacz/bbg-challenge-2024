{
 "cells": [
  {
   "cell_type": "code",
   "execution_count": 1,
   "metadata": {},
   "outputs": [],
   "source": [
    "from time import sleep\n",
    "\n",
    "from IPython.display import clear_output\n",
    "from loguru import logger\n",
    "from pytickersymbols import PyTickerSymbols\n",
    "\n",
    "from bot import TradingBot"
   ]
  },
  {
   "cell_type": "code",
   "execution_count": 2,
   "metadata": {},
   "outputs": [
    {
     "data": {
      "text/plain": [
       "499"
      ]
     },
     "execution_count": 2,
     "metadata": {},
     "output_type": "execute_result"
    }
   ],
   "source": [
    "stock_data = PyTickerSymbols()\n",
    "tickers = [stock['symbol'].strip() for stock in stock_data.get_stocks_by_index('S&P 500')]\n",
    "len(tickers)"
   ]
  },
  {
   "cell_type": "code",
   "execution_count": 3,
   "metadata": {},
   "outputs": [
    {
     "data": {
      "text/plain": [
       "1"
      ]
     },
     "execution_count": 3,
     "metadata": {},
     "output_type": "execute_result"
    }
   ],
   "source": [
    "bot = TradingBot(tickers)\n",
    "logger.add(\"logs/trading_bot.log\")"
   ]
  },
  {
   "cell_type": "code",
   "execution_count": null,
   "metadata": {},
   "outputs": [
    {
     "name": "stderr",
     "output_type": "stream",
     "text": [
      "Downloading data...:   0%|          | 2/499 [00:00<02:56,  2.81it/s]\n",
      "1 Failed download:\n",
      "['SSE']: Exception('%ticker%: No price data found, symbol may be delisted (15m 2024-09-26 16:05:16.133852+00:00 -> 2024-10-07 16:05:16.133852+00:00)')\n",
      "Downloading data...:   6%|▋         | 32/499 [00:09<02:24,  3.24it/s]\n",
      "1 Failed download:\n",
      "['ATVI']: Exception('%ticker%: No timezone found, symbol may be delisted')\n",
      "Downloading data...:  10%|█         | 50/499 [00:14<02:12,  3.40it/s]\n",
      "1 Failed download:\n",
      "['DISH']: Exception('%ticker%: No timezone found, symbol may be delisted')\n",
      "Downloading data...:  11%|█         | 56/499 [00:16<02:06,  3.50it/s]\n",
      "1 Failed download:\n",
      "['FISV']: Exception('%ticker%: No price data found, symbol may be delisted (15m 2024-09-26 16:05:16.133852+00:00 -> 2024-10-07 16:05:16.133852+00:00)')\n",
      "Downloading data...:  26%|██▌       | 130/499 [00:39<01:41,  3.63it/s]\n",
      "1 Failed download:\n",
      "['RTN']: Exception('%ticker%: No timezone found, symbol may be delisted')\n",
      "Downloading data...:  28%|██▊       | 139/499 [00:42<01:48,  3.31it/s]\n",
      "1 Failed download:\n",
      "['ABMD']: Exception('%ticker%: No timezone found, symbol may be delisted')\n",
      "Downloading data...:  31%|███▏      | 156/499 [00:47<01:41,  3.38it/s]\n",
      "1 Failed download:\n",
      "['ABC']: Exception('%ticker%: No timezone found, symbol may be delisted')\n",
      "Downloading data...:  35%|███▍      | 173/499 [00:53<02:00,  2.69it/s]\n",
      "1 Failed download:\n",
      "['BLL']: Exception('%ticker%: No timezone found, symbol may be delisted')\n",
      "Downloading data...:  47%|████▋     | 237/499 [01:14<01:42,  2.55it/s]\n",
      "1 Failed download:\n",
      "['RE']: Exception('%ticker%: No timezone found, symbol may be delisted')\n",
      "Downloading data...:  49%|████▉     | 246/499 [01:17<01:14,  3.41it/s]\n",
      "1 Failed download:\n",
      "['FRC']: Exception('%ticker%: No timezone found, symbol may be delisted')\n",
      "Downloading data...:  50%|████▉     | 248/499 [01:17<01:09,  3.63it/s]\n",
      "1 Failed download:\n",
      "['FLT']: Exception('%ticker%: No timezone found, symbol may be delisted')\n",
      "Downloading data...:  51%|█████     | 252/499 [01:18<01:07,  3.66it/s]\n",
      "1 Failed download:\n",
      "['FBHS']: Exception('%ticker%: No timezone found, symbol may be delisted')\n",
      "Downloading data...:  53%|█████▎    | 266/499 [01:24<01:23,  2.78it/s]\n",
      "1 Failed download:\n",
      "['PEAK']: Exception('%ticker%: No timezone found, symbol may be delisted')\n",
      "Downloading data...:  58%|█████▊    | 289/499 [01:32<01:36,  2.18it/s]\n",
      "1 Failed download:\n",
      "['JEC']: Exception('%ticker%: No timezone found, symbol may be delisted')\n",
      "Downloading data...:  68%|██████▊   | 337/499 [01:47<00:46,  3.49it/s]\n",
      "1 Failed download:\n",
      "['PKI']: Exception('%ticker%: No timezone found, symbol may be delisted')\n",
      "Downloading data...:  68%|██████▊   | 340/499 [01:48<00:44,  3.59it/s]\n",
      "1 Failed download:\n",
      "['PXD']: Exception('%ticker%: No timezone found, symbol may be delisted')\n",
      "Downloading data...:  75%|███████▌  | 376/499 [01:59<00:33,  3.65it/s]\n",
      "1 Failed download:\n",
      "['SIVB']: Exception(\"%ticker%: Period 'max' is invalid, must be one of ['1d', '5d']\")\n",
      "Downloading data...:  81%|████████  | 403/499 [02:08<00:26,  3.60it/s]\n",
      "1 Failed download:\n",
      "['WRK']: Exception('%ticker%: No timezone found, symbol may be delisted')\n",
      "Downloading data...:  82%|████████▏ | 407/499 [02:09<00:24,  3.68it/s]\n",
      "1 Failed download:\n",
      "['WLTW']: Exception('%ticker%: No timezone found, symbol may be delisted')\n",
      "Downloading data...:  95%|█████████▍| 474/499 [02:37<00:07,  3.13it/s]\n",
      "1 Failed download:\n",
      "['CDAY']: Exception('%ticker%: No timezone found, symbol may be delisted')\n",
      "Downloading data...: 100%|██████████| 499/499 [02:47<00:00,  2.99it/s]\n",
      "Calculating Indicators...: 100%|██████████| 499/499 [00:15<00:00, 32.70it/s]\n"
     ]
    }
   ],
   "source": [
    "while True:\n",
    "    bot.execute()\n",
    "    sleep(60*15)\n",
    "    clear_output()"
   ]
  }
 ],
 "metadata": {
  "kernelspec": {
   "display_name": ".venv",
   "language": "python",
   "name": "python3"
  },
  "language_info": {
   "codemirror_mode": {
    "name": "ipython",
    "version": 3
   },
   "file_extension": ".py",
   "mimetype": "text/x-python",
   "name": "python",
   "nbconvert_exporter": "python",
   "pygments_lexer": "ipython3",
   "version": "3.12.6"
  }
 },
 "nbformat": 4,
 "nbformat_minor": 2
}
